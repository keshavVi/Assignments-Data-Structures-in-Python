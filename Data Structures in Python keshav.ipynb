{
 "cells": [
  {
   "cell_type": "code",
   "execution_count": null,
   "id": "7561f7cb-0082-40ca-8507-83dcf9a2b1c0",
   "metadata": {},
   "outputs": [],
   "source": [
    "# 1,  write a code to reverse a string\n",
    "# code \n",
    "# Input string\n",
    "original_string = \"Hello, World!\"\n",
    "\n",
    "# Reversed string\n",
    "reversed_string = original_string[::-1]\n",
    "\n",
    "# Output\n",
    "print(\"Original String:\", original_string)\n",
    "print(\"Reversed String:\", reversed_string)"
   ]
  },
  {
   "cell_type": "code",
   "execution_count": 1,
   "id": "3acbc056-b5dc-4b65-91f9-a32a14ba7614",
   "metadata": {},
   "outputs": [
    {
     "name": "stdout",
     "output_type": "stream",
     "text": [
      "The number of vowels in the string is: 3\n"
     ]
    }
   ],
   "source": [
    "# 2,Write a code to count the number of vowels in a string\n",
    "def count_vowels(input_string):\n",
    "    # Define vowels\n",
    "    vowels = \"aeiouAEIOU\"\n",
    "    # Initialize count\n",
    "    count = 0\n",
    "    # Loop through the string\n",
    "    for char in input_string:\n",
    "        if char in vowels:\n",
    "            count += 1\n",
    "    return count\n",
    "\n",
    "# Input string\n",
    "input_string = \"Hello, World!\"\n",
    "\n",
    "# Count vowels\n",
    "vowel_count = count_vowels(input_string)\n",
    "\n",
    "# Output the result\n",
    "print(\"The number of vowels in the string is:\", vowel_count)"
   ]
  },
  {
   "cell_type": "code",
   "execution_count": 2,
   "id": "df23e79b-1b6f-4255-a245-dba57af57530",
   "metadata": {},
   "outputs": [
    {
     "name": "stdout",
     "output_type": "stream",
     "text": [
      "\"radar\" is a palindrome: True\n"
     ]
    }
   ],
   "source": [
    "# 3, Write a code to check if a given string is a palindrome or not\n",
    "#code \n",
    "def is_palindrome_simple(input_string):\n",
    "    return input_string == input_string[::-1]\n",
    "\n",
    "# Example\n",
    "input_string = \"radar\"\n",
    "print(f'\"{input_string}\" is a palindrome: {is_palindrome_simple(input_string)}')"
   ]
  },
  {
   "cell_type": "code",
   "execution_count": null,
   "id": "5c965889-e34d-4f7a-95c9-a342faae9720",
   "metadata": {},
   "outputs": [],
   "source": [
    "#4 ,Write a code to check if two given strings are anagrams of each other\n",
    "# Function to check if two strings are anagrams\n",
    "def are_anagrams(string1, string2):\n",
    "    # Remove spaces and convert to lowercase\n",
    "    string1 = ''.join(string1.lower().split())\n",
    "    string2 = ''.join(string2.lower().split())\n",
    "    \n",
    "    # Sort and compare\n",
    "    return sorted(string1) == sorted(string2)\n",
    "\n",
    "# Input strings\n",
    "string1 = \"Listen\"\n",
    "string2 = \"Silent\"\n",
    "\n",
    "# Check for anagram\n",
    "if are_anagrams(string1, string2):\n",
    "    print(f'\"{string1}\" and \"{string2}\" are anagrams.')\n",
    "else:\n",
    "    print(f'\"{string1}\" and \"{string2}\" are not anagrams.')"
   ]
  },
  {
   "cell_type": "code",
   "execution_count": null,
   "id": "a6f30f98-cf66-41a1-894d-495fa37905d3",
   "metadata": {},
   "outputs": [],
   "source": [
    "# 5 Write a code to find all occurrences of a given substring within another string\n",
    "# Function to find all occurrences of a substring\n",
    "def find_all_occurrences(string, substring):\n",
    "    occurrences = []\n",
    "    start = 0\n",
    "    \n",
    "    while True:\n",
    "        # Find the substring in the string\n",
    "        start = string.find(substring, start)\n",
    "        if start == -1:  # No more occurrences\n",
    "            break\n",
    "        occurrences.append(start)\n",
    "        start += 1  # Move to the next character to avoid infinite loop\n",
    "    \n",
    "    return occurrences\n",
    "\n",
    "# Input string and substring\n",
    "string = \"This is a test. This test is fun. Testing is great.\"\n",
    "substring = \"test\"\n",
    "\n",
    "# Find all occurrences\n",
    "occurrences = find_all_occurrences(string, substring)\n",
    "\n",
    "# Output the result\n",
    "print(f'The substring \"{substring}\" is found at positions: {occurrences}')\n"
   ]
  },
  {
   "cell_type": "code",
   "execution_count": null,
   "id": "40f82262-ffcf-4c1c-ba0c-08ce6d34c835",
   "metadata": {},
   "outputs": [],
   "source": [
    "#6 Write a code to perform basic string compression using the counts of repeated characters\n",
    "def compress_string(s):\n",
    "    compressed = []\n",
    "    count = 1\n",
    "    for i in range(1, len(s)):\n",
    "        if s[i] == s[i - 1]:\n",
    "            count += 1\n",
    "        else:\n",
    "            compressed.append(s[i - 1] + str(count))\n",
    "            count = 1\n",
    "    compressed.append(s[-1] + str(count))\n",
    "    return ''.join(compressed)\n",
    "\n",
    "print(compress_string(\"aaabbcddd\"))\n"
   ]
  },
  {
   "cell_type": "code",
   "execution_count": null,
   "id": "c96cd80e-8f55-4aa2-b765-156a1093f32e",
   "metadata": {},
   "outputs": [],
   "source": [
    "#7Write a code to determine if a string has all unique characters\n",
    "def is_unique(s):\n",
    "    return len(s) == len(set(s))\n",
    "\n",
    "print(is_unique(\"abcdef\"))  # True\n",
    "print(is_unique(\"aabbcc\"))  # False\n"
   ]
  },
  {
   "cell_type": "code",
   "execution_count": null,
   "id": "4e675828-fbb7-4529-92e2-ce07bcfe8fa6",
   "metadata": {},
   "outputs": [],
   "source": [
    "#8 Write a code to convert a given string to uppercase or lowercase\n",
    "def convert_case(s, to_upper=True):\n",
    "    return s.upper() if to_upper else s.lower()\n",
    "\n",
    "print(convert_case(\"Hello World\", to_upper=True))  # \"HELLO WORLD\"\n",
    "print(convert_case(\"Hello World\", to_upper=False)) # \"hello world\"\n"
   ]
  },
  {
   "cell_type": "code",
   "execution_count": null,
   "id": "7cf5f696-1888-44f2-922b-466e7a1d51ab",
   "metadata": {},
   "outputs": [],
   "source": [
    "#9 Write a code to count the number of words in a string\n",
    "def count_words(s):\n",
    "    return len(s.split())\n",
    "\n",
    "print(count_words(\"Hello, how are you?\"))  # 4\n"
   ]
  },
  {
   "cell_type": "code",
   "execution_count": null,
   "id": "fd8a6857-5a85-4d28-927f-a0aafb7e0360",
   "metadata": {},
   "outputs": [],
   "source": [
    "#10 Write a code to concatenate two strings without using the + operator\n",
    "def concatenate_strings(s1, s2):\n",
    "    return \"\".join([s1, s2])\n",
    "\n",
    "print(concatenate_strings(\"Hello, \", \"World!\"))  # \"Hello, World!\"\n"
   ]
  },
  {
   "cell_type": "code",
   "execution_count": null,
   "id": "5f06934a-1f9e-4346-95ef-117fdcc19274",
   "metadata": {},
   "outputs": [],
   "source": [
    "#11 Write a code to remove all occurrences of a specific element from a list\n",
    "def remove_element(lst, element):\n",
    "    return [x for x in lst if x != element]\n",
    "\n",
    "print(remove_element([1, 2, 3, 4, 3, 5], 3))  # [1, 2, 4, 5]\n"
   ]
  },
  {
   "cell_type": "code",
   "execution_count": null,
   "id": "4cadd0f1-4552-4c31-82e7-00690e5c0f8b",
   "metadata": {},
   "outputs": [],
   "source": [
    "#12 Implement a code to find the second largest number in a given list of integers\n",
    "def second_largest(lst):\n",
    "    unique_sorted = sorted(set(lst), reverse=True)\n",
    "    return unique_sorted[1] if len(unique_sorted) > 1 else None\n",
    "\n",
    "print(second_largest([1, 2, 3, 4, 5]))  # 4\n"
   ]
  },
  {
   "cell_type": "code",
   "execution_count": null,
   "id": "cbbeaf13-5a0c-407f-a654-3339d07069c9",
   "metadata": {},
   "outputs": [],
   "source": [
    "#13Create a code to count the occurrences of each element in a list and return a dictionary with elements as\n",
    "#keys and their counts as values\n",
    "from collections import Counter\n",
    "\n",
    "def count_occurrences(lst):\n",
    "    return dict(Counter(lst))\n",
    "\n",
    "print(count_occurrences([1, 2, 2, 3, 3, 3]))\n"
   ]
  },
  {
   "cell_type": "code",
   "execution_count": null,
   "id": "65973ad7-542f-419a-abac-15c2954b2343",
   "metadata": {},
   "outputs": [],
   "source": [
    "#14 Write a code to reverse a list in-place without using any built-in reverse functions\n",
    "def reverse_list(lst):\n",
    "    left, right = 0, len(lst) - 1\n",
    "    while left < right:\n",
    "        lst[left], lst[right] = lst[right], lst[left]\n",
    "        left += 1\n",
    "        right -= 1\n",
    "    return lst\n",
    "\n",
    "print(reverse_list([1, 2, 3, 4, 5]))  # [5, 4, 3, 2, 1]\n"
   ]
  },
  {
   "cell_type": "code",
   "execution_count": null,
   "id": "a613015b-6c3d-442f-b8b6-c4ae6c526541",
   "metadata": {},
   "outputs": [],
   "source": [
    "#15  Implement a code to find and remove duplicates from a list while preserving the original order of\n",
    "#elements\n",
    "def remove_duplicates(lst):\n",
    "    seen = set()\n",
    "    result = []\n",
    "    for x in lst:\n",
    "        if x not in seen:\n",
    "            result.append(x)\n",
    "            seen.add(x)\n",
    "    return result\n",
    "\n",
    "print(remove_duplicates([1, 2, 2, 3, 4, 4, 5]))\n"
   ]
  },
  {
   "cell_type": "code",
   "execution_count": null,
   "id": "aa53b9dc-91ea-41cb-8ad1-288e66dfe222",
   "metadata": {},
   "outputs": [],
   "source": [
    "#16 Create a code to check if a given list is sorted (either in ascending or descending order) or not\n",
    "def is_sorted(lst):\n",
    "    return lst == sorted(lst) or lst == sorted(lst, reverse=True)\n",
    "\n",
    "print(is_sorted([1, 2, 3]))  # True\n",
    "print(is_sorted([3, 2, 1]))  # True\n",
    "print(is_sorted([1, 3, 2]))  # False\n"
   ]
  },
  {
   "cell_type": "code",
   "execution_count": null,
   "id": "83705817-39b8-49e8-a59b-59ce8f1f12bd",
   "metadata": {},
   "outputs": [],
   "source": [
    "#17 Write a code to merge two sorted lists into a single sorted list\n",
    "def merge_sorted_lists(lst1, lst2):\n",
    "    i, j = 0, 0\n",
    "    merged = []\n",
    "    while i < len(lst1) and j < len(lst2):\n",
    "        if lst1[i] < lst2[j]:\n",
    "            merged.append(lst1[i])\n",
    "            i += 1\n",
    "        else:\n",
    "            merged.append(lst2[j])\n",
    "            j += 1\n",
    "    merged.extend(lst1[i:])\n",
    "    merged.extend(lst2[j:])\n",
    "    return merged\n",
    "\n",
    "print(merge_sorted_lists([1, 3, 5], [2, 4, 6]))\n"
   ]
  },
  {
   "cell_type": "code",
   "execution_count": null,
   "id": "77ad3ba6-41da-4b5e-b2bb-a039e7e71ced",
   "metadata": {},
   "outputs": [],
   "source": [
    "#18 Implement a code to find the intersection of two given lists\n",
    "def list_intersection(lst1, lst2):\n",
    "    return list(set(lst1) & set(lst2))\n",
    "\n",
    "print(list_intersection([1, 2, 3], [2, 3, 4]))\n"
   ]
  },
  {
   "cell_type": "code",
   "execution_count": null,
   "id": "21ede5c0-7c98-4afa-bde7-5e4b1ae53535",
   "metadata": {},
   "outputs": [],
   "source": [
    "#19 Create a code to find the union of two lists without duplicates\n",
    "def list_union(lst1, lst2):\n",
    "    return list(set(lst1) | set(lst2))\n",
    "\n",
    "print(list_union([1, 2, 3], [2, 3, 4]))\n"
   ]
  },
  {
   "cell_type": "code",
   "execution_count": null,
   "id": "8b2e86be-60d3-4c97-af7c-00dd4e0e620e",
   "metadata": {},
   "outputs": [],
   "source": [
    "#20 Write a code to shuffle a given list randomly without using any built-in shuffle functions\n",
    "import random\n",
    "\n",
    "def shuffle_list(lst):\n",
    "    for i in range(len(lst)):\n",
    "        j = random.randint(0, i)\n",
    "        lst[i], lst[j] = lst[j], lst[i]\n",
    "    return lst\n",
    "\n",
    "print(shuffle_list([1, 2, 3, 4, 5]))\n"
   ]
  },
  {
   "cell_type": "code",
   "execution_count": null,
   "id": "f751e4b1-38d2-484e-926a-dd2dd7165d30",
   "metadata": {},
   "outputs": [],
   "source": [
    "#21Write a code that takes two tuples as input and returns a new tuple containing elements that are\n",
    "#common to both input tuples\n",
    "def common_elements(tuple1, tuple2):\n",
    "    return tuple(set(tuple1) & set(tuple2))\n",
    "\n",
    "# Example\n",
    "tuple1 = (1, 2, 3, 4)\n",
    "tuple2 = (3, 4, 5, 6)\n",
    "print(common_elements(tuple1, tuple2))  # Output: (3, 4)\n"
   ]
  },
  {
   "cell_type": "code",
   "execution_count": null,
   "id": "9274c586-be81-4c71-ada2-72bf5654f990",
   "metadata": {},
   "outputs": [],
   "source": [
    "#22Create a code that prompts the user to enter two sets of integers separated by commas. Then, print the\n",
    "#intersection of these two sets\n",
    "set1 = set(map(int, input(\"Enter the first set of integers (comma-separated): \").split(',')))\n",
    "set2 = set(map(int, input(\"Enter the second set of integers (comma-separated): \").split(',')))\n",
    "print(\"Intersection:\", set1 & set2)\n"
   ]
  },
  {
   "cell_type": "code",
   "execution_count": null,
   "id": "7a021850-d999-49f5-85f2-d1c6bff31ea9",
   "metadata": {},
   "outputs": [],
   "source": [
    "#23Write a code to concatenate two tuples. The function should take two tuples as input and return a new\n",
    "#tuple containing elements from both input tuples\n",
    "def concatenate_tuples(tuple1, tuple2):\n",
    "    return tuple1 + tuple2\n",
    "\n",
    "# Example\n",
    "tuple1 = (1, 2, 3)\n",
    "tuple2 = (4, 5, 6)\n",
    "print(concatenate_tuples(tuple1, tuple2))  # Output: (1, 2, 3, 4, 5, 6)\n"
   ]
  },
  {
   "cell_type": "code",
   "execution_count": null,
   "id": "c4968411-b3e8-4a83-859c-62ee5c6b671e",
   "metadata": {},
   "outputs": [],
   "source": [
    "#24Develop a code that prompts the user to input two sets of strings. Then, print the elements that are\n",
    "#present in the first set but not in the second set\n",
    "set1 = set(input(\"Enter the first set of strings (comma-separated): \").split(','))\n",
    "set2 = set(input(\"Enter the second set of strings (comma-separated): \").split(','))\n",
    "print(\"Elements in first set but not in second set:\", set1 - set2)\n"
   ]
  },
  {
   "cell_type": "code",
   "execution_count": null,
   "id": "a619a26d-e8ac-4f55-8163-5d4738cebad4",
   "metadata": {},
   "outputs": [],
   "source": [
    "#25Create a code that takes a tuple and two integers as input. The function should return a new tuple\n",
    "#containing elements from the original tuple within the specified range of indices\n",
    "def tuple_range(tpl, start, end):\n",
    "    return tpl[start:end]\n",
    "\n",
    "# Example\n",
    "tpl = (0, 1, 2, 3, 4, 5)\n",
    "print(tuple_range(tpl, 2, 5))  # Output: (2, 3, 4)\n"
   ]
  },
  {
   "cell_type": "code",
   "execution_count": null,
   "id": "4fc4a681-a817-416c-938c-dbc8d21a1824",
   "metadata": {},
   "outputs": [],
   "source": [
    "#26Write a code that prompts the user to input two sets of characters. Then, print the union of these two sets\n",
    "set1 = set(input(\"Enter the first set of characters (comma-separated): \").split(','))\n",
    "set2 = set(input(\"Enter the second set of characters (comma-separated): \").split(','))\n",
    "print(\"Union:\", set1 | set2)\n"
   ]
  },
  {
   "cell_type": "code",
   "execution_count": null,
   "id": "9be4220f-7d13-4a11-907c-acd7388caf2f",
   "metadata": {},
   "outputs": [],
   "source": [
    "# 27Develop a code that takes a tuple of integers as input. The function should return the maximum and\n",
    "#minimum values from the tuple using tuple unpacking\n",
    "def max_min(tpl):\n",
    "    return max(tpl), min(tpl)\n",
    "\n",
    "# Example\n",
    "tpl = (5, 2, 8, 1)\n",
    "print(max_min(tpl))  # Output: (8, 1)\n"
   ]
  },
  {
   "cell_type": "code",
   "execution_count": null,
   "id": "d589d87d-e61b-49f4-9415-f96557a10972",
   "metadata": {},
   "outputs": [],
   "source": [
    "#28Create a code that defines two sets of integers. Then, print the union, intersection, and difference of these\n",
    "#two sets&\n",
    "set1 = {1, 2, 3}\n",
    "set2 = {3, 4, 5}\n",
    "print(\"Union:\", set1 | set2)\n",
    "print(\"Intersection:\", set1 & set2)\n",
    "print(\"Difference:\", set1 - set2)\n"
   ]
  },
  {
   "cell_type": "code",
   "execution_count": null,
   "id": "190fe03f-78b3-4b2d-84cf-ce1916cd1a64",
   "metadata": {},
   "outputs": [],
   "source": [
    "#29Write a code that takes a tuple and an element as input. The function should return the count of\n",
    "#occurrences of the given element in the tuple&\n",
    "def count_element(tpl, element):\n",
    "    return tpl.count(element)\n",
    "\n",
    "# Example\n",
    "tpl = (1, 2, 3, 1, 1, 4)\n",
    "print(count_element(tpl, 1))  # Output: 3\n"
   ]
  },
  {
   "cell_type": "code",
   "execution_count": null,
   "id": "a26ff146-8bc6-42a9-bcf7-3abe1f9da3ea",
   "metadata": {},
   "outputs": [],
   "source": [
    "#30Develop a code that prompts the user to input two sets of strings. Then, print the symmetric difference of\n",
    "#these two sets\n",
    "set1 = set(input(\"Enter the first set of strings (comma-separated): \").split(','))\n",
    "set2 = set(input(\"Enter the second set of strings (comma-separated): \").split(','))\n",
    "print(\"Symmetric Difference:\", set1 ^ set2)\n"
   ]
  },
  {
   "cell_type": "code",
   "execution_count": null,
   "id": "71e32501-303b-43fc-ac2c-e5f761cd0895",
   "metadata": {},
   "outputs": [],
   "source": [
    "#31Write a code that takes a list of words as input and returns a dictionary where the keys are unique words\n",
    "#and the values are the frequencies of those words in the input list&\n",
    "def word_frequency(words):\n",
    "    return {word: words.count(word) for word in set(words)}\n",
    "\n",
    "# Example\n",
    "words = [\"apple\", \"banana\", \"apple\", \"orange\", \"banana\"]\n",
    "print(word_frequency(words))\n",
    "# Output: {'banana': 2, 'orange': 1, 'apple': 2}\n"
   ]
  },
  {
   "cell_type": "code",
   "execution_count": null,
   "id": "c7a0a1f1-6a55-40b3-8332-1bcdc895d982",
   "metadata": {},
   "outputs": [],
   "source": [
    "#32Write a code that takes two dictionaries as input and merges them into a single dictionary. If there are\n",
    "#common keys, the values should be added together\n",
    "def merge_dicts(dict1, dict2):\n",
    "    result = dict1.copy()\n",
    "    for key, value in dict2.items():\n",
    "        result[key] = result.get(key, 0) + value\n",
    "    return result\n",
    "\n",
    "# Example\n",
    "dict1 = {\"a\": 1, \"b\": 2}\n",
    "dict2 = {\"b\": 3, \"c\": 4}\n",
    "print(merge_dicts(dict1, dict2))  # Output: {'a': 1, 'b': 5, 'c': 4}\n"
   ]
  },
  {
   "cell_type": "code",
   "execution_count": null,
   "id": "4a44e4a3-0d10-415a-9557-056f7b39b07c",
   "metadata": {},
   "outputs": [],
   "source": [
    "#33Write a code to access a value in a nested dictionary. The function should take the dictionary and a list of\n",
    "#keys as input, and return the corresponding value. If any of the keys do not exist in the dictionary, the\n",
    "#function should return None\n",
    "def access_nested_dict(nested_dict, keys):\n",
    "    current = nested_dict\n",
    "    for key in keys:\n",
    "        if isinstance(current, dict) and key in current:\n",
    "            current = current[key]\n",
    "        else:\n",
    "            return None\n",
    "    return current\n",
    "\n",
    "# Example\n",
    "nested_dict = {\"a\": {\"b\": {\"c\": 42}}}\n",
    "keys = [\"a\", \"b\", \"c\"]\n",
    "print(access_nested_dict(nested_dict, keys))  # Output: 42\n"
   ]
  },
  {
   "cell_type": "code",
   "execution_count": null,
   "id": "69da8983-a909-474e-bbe2-f685bd881a9d",
   "metadata": {},
   "outputs": [],
   "source": [
    "#34 Write a code that takes a dictionary as input and returns a sorted version of it based on the values. You\n",
    "#can choose whether to sort in ascending or descending order\n",
    "def sort_dict_by_values(d, descending=False):\n",
    "    return dict(sorted(d.items(), key=lambda item: item[1], reverse=descending))\n",
    "\n",
    "# Example\n",
    "d = {\"a\": 2, \"b\": 1, \"c\": 3}\n",
    "print(sort_dict_by_values(d))  # Output: {'b': 1, 'a': 2, 'c': 3}\n"
   ]
  },
  {
   "cell_type": "code",
   "execution_count": null,
   "id": "327413c0-402f-48ee-b454-82ab2192e769",
   "metadata": {},
   "outputs": [],
   "source": [
    "#35Write a code that inverts a dictionary, swapping keys and values. Ensure that the inverted dictionary\n",
    "#correctly handles cases where multiple keys have the same value by storing the keys as a list in the\n",
    "#inverteddef invert_dict(d):\n",
    "    inverted = {}\n",
    "    for key, value in d.items():\n",
    "        inverted.setdefault(value, []).append(key)\n",
    "    return inverted\n",
    "\n",
    "# Example\n",
    "d = {\"a\": 1, \"b\": 2, \"c\": 1}\n",
    "print(invert_dict(d))  # Output: {1: ['a', 'c'], 2: ['b']}\n",
    " dictionary.\n"
   ]
  },
  {
   "cell_type": "code",
   "execution_count": null,
   "id": "308c9050-b886-4cc5-8cfd-ce7d5cd2f1b8",
   "metadata": {},
   "outputs": [],
   "source": []
  },
  {
   "cell_type": "code",
   "execution_count": null,
   "id": "df603170-285b-4868-9df7-e850741ed51e",
   "metadata": {},
   "outputs": [],
   "source": []
  },
  {
   "cell_type": "code",
   "execution_count": null,
   "id": "b5b63cfd-a9fc-419c-962e-b723f7521326",
   "metadata": {},
   "outputs": [],
   "source": []
  }
 ],
 "metadata": {
  "kernelspec": {
   "display_name": "Python 3 (ipykernel)",
   "language": "python",
   "name": "python3"
  },
  "language_info": {
   "codemirror_mode": {
    "name": "ipython",
    "version": 3
   },
   "file_extension": ".py",
   "mimetype": "text/x-python",
   "name": "python",
   "nbconvert_exporter": "python",
   "pygments_lexer": "ipython3",
   "version": "3.12.7"
  }
 },
 "nbformat": 4,
 "nbformat_minor": 5
}
